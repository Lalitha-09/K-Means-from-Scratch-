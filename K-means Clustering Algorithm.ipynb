{
 "cells": [
  {
   "cell_type": "markdown",
   "id": "7ce9da8c",
   "metadata": {},
   "source": [
    "# K-Means Clustering Algorithm"
   ]
  },
  {
   "cell_type": "markdown",
   "id": "947c1d53",
   "metadata": {},
   "source": [
    "### Taking input points for k mean clustering"
   ]
  },
  {
   "cell_type": "code",
   "execution_count": 6,
   "id": "8e2e22c8",
   "metadata": {},
   "outputs": [
    {
     "name": "stdout",
     "output_type": "stream",
     "text": [
      "Enter the number of data points participating in clustering8\n",
      "Enter x coordinate\n",
      "2\n",
      "Enter y coordinate\n",
      "10\n",
      "0  point is (2, 10)\n",
      "Enter x coordinate\n",
      "2\n",
      "Enter y coordinate\n",
      "5\n",
      "1  point is (2, 5)\n",
      "Enter x coordinate\n",
      "8\n",
      "Enter y coordinate\n",
      "4\n",
      "2  point is (8, 4)\n",
      "Enter x coordinate\n",
      "5\n",
      "Enter y coordinate\n",
      "8\n",
      "3  point is (5, 8)\n",
      "Enter x coordinate\n",
      "7\n",
      "Enter y coordinate\n",
      "5\n",
      "4  point is (7, 5)\n",
      "Enter x coordinate\n",
      "6\n",
      "Enter y coordinate\n",
      "4\n",
      "5  point is (6, 4)\n",
      "Enter x coordinate\n",
      "1\n",
      "Enter y coordinate\n",
      "2\n",
      "6  point is (1, 2)\n",
      "Enter x coordinate\n",
      "4\n",
      "Enter y coordinate\n",
      "9\n",
      "7  point is (4, 9)\n"
     ]
    }
   ],
   "source": [
    "a=[]\n",
    "b=[]\n",
    "A=[]\n",
    "n=int(input(\"Enter the number of data points participating in clustering\"))\n",
    "for i in range(n):\n",
    "    print(\"Enter x coordinate\")\n",
    "    x=int(input())\n",
    "    a.append(x)\n",
    "    print(\"Enter y coordinate\")\n",
    "    y=int(input())\n",
    "    b.append(y)\n",
    "    A.append((a[i],b[i]))\n",
    "    print(i,\" point is\",(a[i],b[i]))"
   ]
  },
  {
   "cell_type": "code",
   "execution_count": 7,
   "id": "79e972ec",
   "metadata": {},
   "outputs": [
    {
     "data": {
      "text/plain": [
       "[(2, 10), (2, 5), (8, 4), (5, 8), (7, 5), (6, 4), (1, 2), (4, 9)]"
      ]
     },
     "execution_count": 7,
     "metadata": {},
     "output_type": "execute_result"
    }
   ],
   "source": [
    "A\n"
   ]
  },
  {
   "cell_type": "code",
   "execution_count": 8,
   "id": "a2455095",
   "metadata": {},
   "outputs": [
    {
     "data": {
      "text/plain": [
       "Text(0, 0.5, 'Y-coordinates (b)')"
      ]
     },
     "execution_count": 8,
     "metadata": {},
     "output_type": "execute_result"
    },
    {
     "data": {
      "image/png": "[encoded data removed]",
      "text/plain": [
       "<Figure size 432x288 with 1 Axes>"
      ]
     },
     "metadata": {
      "needs_background": "light"
     },
     "output_type": "display_data"
    }
   ],
   "source": [
    "import matplotlib.pyplot as plt\n",
    "plt.scatter(a,b)\n",
    "plt.xlabel('X-coordinates (a)')\n",
    "plt.ylabel('Y-coordinates (b)')"
   ]
  },
  {
   "cell_type": "markdown",
   "id": "7ae63ba5",
   "metadata": {},
   "source": [
    "### choosing initial centroids(randomly)"
   ]
  },
  {
   "cell_type": "code",
   "execution_count": 9,
   "id": "406212e4",
   "metadata": {},
   "outputs": [],
   "source": [
    "C=[A[0],A[3],A[6]]"
   ]
  },
  {
   "cell_type": "code",
   "execution_count": 10,
   "id": "366359a0",
   "metadata": {},
   "outputs": [
    {
     "data": {
      "text/plain": [
       "[(2, 10), (5, 8), (1, 2)]"
      ]
     },
     "execution_count": 10,
     "metadata": {},
     "output_type": "execute_result"
    }
   ],
   "source": [
    "C"
   ]
  },
  {
   "cell_type": "markdown",
   "id": "7270d419",
   "metadata": {},
   "source": [
    "### Computing distance between centroids and the data points using Euclidean Distance"
   ]
  },
  {
   "cell_type": "markdown",
   "id": "30bde7ac",
   "metadata": {},
   "source": [
    "#### A0 to C1,C2,C3"
   ]
  },
  {
   "cell_type": "markdown",
   "id": "f9486a23",
   "metadata": {},
   "source": [
    "### formula : sqrt((x2-x1)^2 + (y2-y1)^2)"
   ]
  },
  {
   "cell_type": "code",
   "execution_count": 11,
   "id": "c6e6b3c0",
   "metadata": {},
   "outputs": [],
   "source": [
    "import numpy as np"
   ]
  },
  {
   "cell_type": "code",
   "execution_count": 12,
   "id": "29ef57c1",
   "metadata": {},
   "outputs": [
    {
     "data": {
      "text/plain": [
       "[(2, 10), (5, 8), (1, 2)]"
      ]
     },
     "execution_count": 12,
     "metadata": {},
     "output_type": "execute_result"
    }
   ],
   "source": [
    "\n",
    "C"
   ]
  },
  {
   "cell_type": "code",
   "execution_count": 13,
   "id": "093c66f7",
   "metadata": {},
   "outputs": [
    {
     "data": {
      "text/plain": [
       "[2, 2, 8, 5, 7, 6, 1, 4]"
      ]
     },
     "execution_count": 13,
     "metadata": {},
     "output_type": "execute_result"
    }
   ],
   "source": [
    "a"
   ]
  },
  {
   "cell_type": "code",
   "execution_count": 14,
   "id": "ccc9da4e",
   "metadata": {},
   "outputs": [
    {
     "data": {
      "text/plain": [
       "[10, 5, 4, 8, 5, 4, 2, 9]"
      ]
     },
     "execution_count": 14,
     "metadata": {},
     "output_type": "execute_result"
    }
   ],
   "source": [
    "b"
   ]
  },
  {
   "cell_type": "code",
   "execution_count": 15,
   "id": "af2064a8",
   "metadata": {},
   "outputs": [
    {
     "data": {
      "text/plain": [
       "[(2, 10), (2, 5), (8, 4), (5, 8), (7, 5), (6, 4), (1, 2), (4, 9)]"
      ]
     },
     "execution_count": 15,
     "metadata": {},
     "output_type": "execute_result"
    }
   ],
   "source": [
    "A"
   ]
  },
  {
   "cell_type": "code",
   "execution_count": 16,
   "id": "87e7589e",
   "metadata": {},
   "outputs": [],
   "source": [
    "\n",
    "def dist(c,a):\n",
    "    d=[]\n",
    "    for i in range(3):\n",
    "        d.append(round(np.sqrt((c[i][0]-a[0])**2+(c[i][1]-a[1])**2),2))\n",
    "    return d\n",
    "    "
   ]
  },
  {
   "cell_type": "code",
   "execution_count": 17,
   "id": "d58e5a97",
   "metadata": {},
   "outputs": [],
   "source": [
    "p=dist(C,A[0])\n",
    "q=dist(C,A[1])\n",
    "r=dist(C,A[2])\n",
    "s=dist(C,A[3])\n",
    "t=dist(C,A[4])\n",
    "u=dist(C,A[5])\n",
    "v=dist(C,A[6])\n",
    "w=dist(C,A[7])\n",
    "\n"
   ]
  },
  {
   "cell_type": "code",
   "execution_count": 116,
   "id": "858e8de9",
   "metadata": {},
   "outputs": [
    {
     "data": {
      "text/plain": [
       "[5.0, 4.24, 3.16]"
      ]
     },
     "execution_count": 116,
     "metadata": {},
     "output_type": "execute_result"
    }
   ],
   "source": [
    "q"
   ]
  },
  {
   "cell_type": "markdown",
   "id": "4d422690",
   "metadata": {},
   "source": [
    "### finding the minimum distance in each row."
   ]
  },
  {
   "cell_type": "code",
   "execution_count": 18,
   "id": "73dfe57f",
   "metadata": {},
   "outputs": [],
   "source": [
    "set_1=[p,q,r,s,t,u,v,w]"
   ]
  },
  {
   "cell_type": "code",
   "execution_count": 19,
   "id": "0d1ab3e2",
   "metadata": {},
   "outputs": [],
   "source": [
    "import pandas as pd"
   ]
  },
  {
   "cell_type": "code",
   "execution_count": 20,
   "id": "e7e1e28e",
   "metadata": {},
   "outputs": [],
   "source": [
    "df=pd.DataFrame([p,q,r,s,t,u,v,w])"
   ]
  },
  {
   "cell_type": "code",
   "execution_count": 21,
   "id": "4efaa0a5",
   "metadata": {},
   "outputs": [],
   "source": [
    "df.rename(columns={0:'C1',1:'C2',2:'C3'},index={0:'A0',1:'A1',2:'A2',3:'A3',4:'A4',5:'A5',6:'A6',7:'A7'},inplace=True)"
   ]
  },
  {
   "cell_type": "code",
   "execution_count": 107,
   "id": "c558dd57",
   "metadata": {},
   "outputs": [],
   "source": [
    "def min_d(row,A):\n",
    "    cluster_val=[]\n",
    "    cluster_index=[]\n",
    "    cluster1=[]\n",
    "    cluster2=[]\n",
    "    cluster3=[]\n",
    "    clus_name=[]\n",
    "    for i in range(len(row)):\n",
    "        cluster_val.append(min(set_1[i]))\n",
    "        cluster_index.append(np.argmin(set_1[i]))\n",
    "        \n",
    "        if cluster_index[i]==0:\n",
    "            cluster1.append(A[i])\n",
    "        elif cluster_index[i]==1:\n",
    "            cluster2.append(A[i])\n",
    "        else:\n",
    "            cluster3.append(A[i])\n",
    "    "
   ]
  },
  {
   "cell_type": "code",
   "execution_count": 108,
   "id": "2fd6e5b5",
   "metadata": {},
   "outputs": [],
   "source": [
    "min_d(set_1,A)"
   ]
  },
  {
   "cell_type": "code",
   "execution_count": 81,
   "id": "2ef8ebe3",
   "metadata": {},
   "outputs": [],
   "source": [
    "clus_name=[]\n",
    "for i in range(len(cluster_index)):\n",
    "    if cluster_index[i]==0:\n",
    "        clus_name.append('C1')\n",
    "    elif cluster_index[i]==1:\n",
    "        clus_name.append('C2')\n",
    "    else:\n",
    "        clus_name.append('C3')\n",
    "        "
   ]
  },
  {
   "cell_type": "code",
   "execution_count": 82,
   "id": "eb3f42ce",
   "metadata": {},
   "outputs": [
    {
     "data": {
      "text/plain": [
       "['C1', 'C3', 'C2', 'C2', 'C2', 'C2', 'C3', 'C2']"
      ]
     },
     "execution_count": 82,
     "metadata": {},
     "output_type": "execute_result"
    }
   ],
   "source": [
    "clus_name"
   ]
  },
  {
   "cell_type": "code",
   "execution_count": 87,
   "id": "ded1336e",
   "metadata": {},
   "outputs": [],
   "source": [
    "df['Point belongs to cluster']=clus_name"
   ]
  },
  {
   "cell_type": "markdown",
   "id": "08bac1ab",
   "metadata": {},
   "source": [
    "### Grouping data points into each cluster"
   ]
  },
  {
   "cell_type": "code",
   "execution_count": 26,
   "id": "4506e73f",
   "metadata": {},
   "outputs": [
    {
     "data": {
      "text/plain": [
       "[(2, 10)]"
      ]
     },
     "execution_count": 26,
     "metadata": {},
     "output_type": "execute_result"
    }
   ],
   "source": [
    "cluster1"
   ]
  },
  {
   "cell_type": "code",
   "execution_count": 27,
   "id": "6f2f3e04",
   "metadata": {},
   "outputs": [
    {
     "data": {
      "text/plain": [
       "[(8, 4), (5, 8), (7, 5), (6, 4), (4, 9)]"
      ]
     },
     "execution_count": 27,
     "metadata": {},
     "output_type": "execute_result"
    }
   ],
   "source": [
    "cluster2"
   ]
  },
  {
   "cell_type": "code",
   "execution_count": 28,
   "id": "4f47eb1c",
   "metadata": {},
   "outputs": [
    {
     "data": {
      "text/plain": [
       "[(2, 5), (1, 2)]"
      ]
     },
     "execution_count": 28,
     "metadata": {},
     "output_type": "execute_result"
    }
   ],
   "source": [
    "cluster3"
   ]
  },
  {
   "cell_type": "code",
   "execution_count": 36,
   "id": "2f52e216",
   "metadata": {},
   "outputs": [],
   "source": [
    "all_clusters=(cluster1,cluster2,cluster3)"
   ]
  },
  {
   "cell_type": "markdown",
   "id": "1fdb0ab0",
   "metadata": {},
   "source": [
    "### Table of Iteration-1"
   ]
  },
  {
   "cell_type": "code",
   "execution_count": 89,
   "id": "2c0bd6da",
   "metadata": {},
   "outputs": [
    {
     "data": {
      "text/html": [
       "<div>\n",
       "<style scoped>\n",
       "    .dataframe tbody tr th:only-of-type {\n",
       "        vertical-align: middle;\n",
       "    }\n",
       "\n",
       "    .dataframe tbody tr th {\n",
       "        vertical-align: top;\n",
       "    }\n",
       "\n",
       "    .dataframe thead th {\n",
       "        text-align: right;\n",
       "    }\n",
       "</style>\n",
       "<table border=\"1\" class=\"dataframe\">\n",
       "  <thead>\n",
       "    <tr style=\"text-align: right;\">\n",
       "      <th></th>\n",
       "      <th>C1</th>\n",
       "      <th>C2</th>\n",
       "      <th>C3</th>\n",
       "      <th>Point belongs to cluster</th>\n",
       "    </tr>\n",
       "  </thead>\n",
       "  <tbody>\n",
       "    <tr>\n",
       "      <th>A0</th>\n",
       "      <td>0.00</td>\n",
       "      <td>3.61</td>\n",
       "      <td>8.06</td>\n",
       "      <td>C1</td>\n",
       "    </tr>\n",
       "    <tr>\n",
       "      <th>A1</th>\n",
       "      <td>5.00</td>\n",
       "      <td>4.24</td>\n",
       "      <td>3.16</td>\n",
       "      <td>C3</td>\n",
       "    </tr>\n",
       "    <tr>\n",
       "      <th>A2</th>\n",
       "      <td>8.49</td>\n",
       "      <td>5.00</td>\n",
       "      <td>7.28</td>\n",
       "      <td>C2</td>\n",
       "    </tr>\n",
       "    <tr>\n",
       "      <th>A3</th>\n",
       "      <td>3.61</td>\n",
       "      <td>0.00</td>\n",
       "      <td>7.21</td>\n",
       "      <td>C2</td>\n",
       "    </tr>\n",
       "    <tr>\n",
       "      <th>A4</th>\n",
       "      <td>7.07</td>\n",
       "      <td>3.61</td>\n",
       "      <td>6.71</td>\n",
       "      <td>C2</td>\n",
       "    </tr>\n",
       "    <tr>\n",
       "      <th>A5</th>\n",
       "      <td>7.21</td>\n",
       "      <td>4.12</td>\n",
       "      <td>5.39</td>\n",
       "      <td>C2</td>\n",
       "    </tr>\n",
       "    <tr>\n",
       "      <th>A6</th>\n",
       "      <td>8.06</td>\n",
       "      <td>7.21</td>\n",
       "      <td>0.00</td>\n",
       "      <td>C3</td>\n",
       "    </tr>\n",
       "    <tr>\n",
       "      <th>A7</th>\n",
       "      <td>2.24</td>\n",
       "      <td>1.41</td>\n",
       "      <td>7.62</td>\n",
       "      <td>C2</td>\n",
       "    </tr>\n",
       "  </tbody>\n",
       "</table>\n",
       "</div>"
      ],
      "text/plain": [
       "      C1    C2    C3 Point belongs to cluster\n",
       "A0  0.00  3.61  8.06                       C1\n",
       "A1  5.00  4.24  3.16                       C3\n",
       "A2  8.49  5.00  7.28                       C2\n",
       "A3  3.61  0.00  7.21                       C2\n",
       "A4  7.07  3.61  6.71                       C2\n",
       "A5  7.21  4.12  5.39                       C2\n",
       "A6  8.06  7.21  0.00                       C3\n",
       "A7  2.24  1.41  7.62                       C2"
      ]
     },
     "execution_count": 89,
     "metadata": {},
     "output_type": "execute_result"
    }
   ],
   "source": [
    "df"
   ]
  },
  {
   "cell_type": "markdown",
   "id": "4132210f",
   "metadata": {},
   "source": [
    "### Finding new centroid"
   ]
  },
  {
   "cell_type": "code",
   "execution_count": 95,
   "id": "44bdd783",
   "metadata": {},
   "outputs": [],
   "source": [
    "def new_centroid(cluster):\n",
    "    n=len(cluster)\n",
    "    x=0\n",
    "    y=0\n",
    "    for i in range(n):\n",
    "        x=x+cluster[i][0]\n",
    "        y=y+cluster[i][1]\n",
    "    new_centre=(round(x/n,2),round(y/n,2))\n",
    "    return(new_centre)"
   ]
  },
  {
   "cell_type": "code",
   "execution_count": 96,
   "id": "dbe84b61",
   "metadata": {},
   "outputs": [],
   "source": [
    "new_centroid1=new_centroid(cluster1)"
   ]
  },
  {
   "cell_type": "code",
   "execution_count": 117,
   "id": "2e93b354",
   "metadata": {},
   "outputs": [
    {
     "data": {
      "text/plain": [
       "(2.0, 10.0)"
      ]
     },
     "execution_count": 117,
     "metadata": {},
     "output_type": "execute_result"
    }
   ],
   "source": [
    "new_centroid1"
   ]
  },
  {
   "cell_type": "code",
   "execution_count": 98,
   "id": "cf00a6cf",
   "metadata": {},
   "outputs": [],
   "source": [
    "new_centroid2=new_centroid(cluster2)"
   ]
  },
  {
   "cell_type": "code",
   "execution_count": 100,
   "id": "5884c0f6",
   "metadata": {},
   "outputs": [],
   "source": [
    "new_centroid3=new_centroid(cluster3)"
   ]
  },
  {
   "cell_type": "code",
   "execution_count": 103,
   "id": "a3c9601c",
   "metadata": {},
   "outputs": [],
   "source": [
    "centro=[new_centroid1,new_centroid2,new_centroid3]"
   ]
  },
  {
   "cell_type": "code",
   "execution_count": 104,
   "id": "41d3db8b",
   "metadata": {},
   "outputs": [],
   "source": [
    "d1=dist(centro,A[0])\n",
    "d2=dist(centro,A[1])\n",
    "d3=dist(centro,A[2])\n",
    "d4=dist(centro,A[3])\n",
    "d5=dist(centro,A[4])\n",
    "d6=dist(centro,A[5])\n",
    "d7=dist(centro,A[6])\n",
    "d8=dist(centro,A[7])"
   ]
  },
  {
   "cell_type": "code",
   "execution_count": 113,
   "id": "32b50421",
   "metadata": {},
   "outputs": [],
   "source": [
    "set_2=[d1,d2,d3,d4,d5,d6,d7,d8]"
   ]
  },
  {
   "cell_type": "code",
   "execution_count": 114,
   "id": "8ada90af",
   "metadata": {},
   "outputs": [],
   "source": [
    "min_d(set_2,A)"
   ]
  },
  {
   "cell_type": "code",
   "execution_count": 111,
   "id": "25746eff",
   "metadata": {},
   "outputs": [
    {
     "data": {
      "text/plain": [
       "[(2, 10)]"
      ]
     },
     "execution_count": 111,
     "metadata": {},
     "output_type": "execute_result"
    }
   ],
   "source": [
    "cluster1"
   ]
  },
  {
   "cell_type": "code",
   "execution_count": 112,
   "id": "e93bd56a",
   "metadata": {},
   "outputs": [
    {
     "data": {
      "text/plain": [
       "[(8, 4), (5, 8), (7, 5), (6, 4), (4, 9)]"
      ]
     },
     "execution_count": 112,
     "metadata": {},
     "output_type": "execute_result"
    }
   ],
   "source": [
    "cluster2"
   ]
  }
 ],
 "metadata": {
  "kernelspec": {
   "display_name": "Python 3 (ipykernel)",
   "language": "python",
   "name": "python3"
  },
  "language_info": {
   "codemirror_mode": {
    "name": "ipython",
    "version": 3
   },
   "file_extension": ".py",
   "mimetype": "text/x-python",
   "name": "python",
   "nbconvert_exporter": "python",
   "pygments_lexer": "ipython3",
   "version": "3.10.5"
  }
 },
 "nbformat": 4,
 "nbformat_minor": 5
}
